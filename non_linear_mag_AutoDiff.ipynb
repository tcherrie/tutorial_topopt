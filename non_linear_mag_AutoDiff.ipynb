{
 "cells": [
  {
   "cell_type": "markdown",
   "metadata": {},
   "source": [
    "# Maximisation couple moyen (non-linéaire)\n",
    "\n",
    "Ce notebook propose d'optimiser le rotor d'une machine synchro-réluctante sans aimant à une paire de pôle en vue de maximiser le couple moyen.\n",
    "Dans ce cas particulier, le couple moyen est directement relié à la différence de perméance magnétique du rotor dans l'axe direct d et l'axe en quadrature q.\n",
    "\n",
    "Le problème étudié est donc la maximisation de cette différence de perméance via la différence de compliance magnétique. Il est possible de démontrer que ce problème est mal posé."
   ]
  },
  {
   "cell_type": "code",
   "execution_count": 1,
   "metadata": {},
   "outputs": [
    {
     "name": "stdout",
     "output_type": "stream",
     "text": [
      "importing NGSolve-6.2.2105-9-g5a835126f\n"
     ]
    }
   ],
   "source": [
    "from ngsolve import *\n",
    "from ngsolve.webgui import Draw\n",
    "from netgen.geom2d import SplineGeometry\n",
    "#from netgen.geom2d import unit_square\n",
    "from copy import copy\n",
    "from numpy.random import randint\n",
    "import numpy as np\n",
    "import matplotlib.pyplot as plt\n",
    "from ngsolve.solvers import Newton"
   ]
  },
  {
   "cell_type": "markdown",
   "metadata": {},
   "source": [
    "## 1) Définition du maillage\n",
    "\n",
    "La première étape consiste à définir une géométrie (disque), ainsi que la finesse de maillage associée."
   ]
  },
  {
   "cell_type": "code",
   "execution_count": null,
   "metadata": {},
   "outputs": [],
   "source": [
    "geo = SplineGeometry()\n",
    "\n",
    "R = 1;\n",
    "h = R/20; # ne pas prendre moins de R/50\n",
    "\n",
    "pnts = [(R,-R),(-R,-R),(-R,R),(R,R)]\n",
    "\n",
    "p = [geo.AppendPoint(*pnt) for pnt in pnts]\n",
    "\n",
    "\n",
    "geo.Append([\"line\",0,1],leftdomain=0,rightdomain=1,bc=\"bottom\")\n",
    "geo.Append([\"line\",1,2],leftdomain=0,rightdomain=1,bc=\"left\")\n",
    "geo.Append([\"line\",2,3],leftdomain=0,rightdomain=1,bc=\"up\")\n",
    "geo.Append([\"line\",3,0],leftdomain=0,rightdomain=1,bc=\"right\")\n",
    "\n",
    "geo.SetMaterial(1, \"in\")\n",
    "\n",
    "ngmesh = geo.GenerateMesh(maxh=h)\n",
    "mesh = Mesh(ngmesh)\n",
    "Draw (mesh)"
   ]
  },
  {
   "cell_type": "markdown",
   "metadata": {},
   "source": [
    "## 2) Définition des problèmes éléments finis\n",
    "\n",
    "L'objectif est ici de maximiser la différence de compliance magnétique pour deux chargement distincts. On va résoudre le problème magnétostatique dual ; pour cela, remarquons qu'en l'absence de termes sources:\n",
    "\n",
    "$$ \\overrightarrow{\\text{rot}} ~ \\overrightarrow{h} = 0 $$\n",
    "\n",
    "On pose donc $\\phi$ un potentiel scalaire tel que $\\overrightarrow{h} = \\overrightarrow{\\text{grad}} ~ \\phi$, qui vérifie donc dans $\\Omega$:\n",
    "$$ \\text{div}( \\mu ~\\overrightarrow{\\text{grad}} ~ \\phi ) = 0 $$\n",
    "\n",
    "$\\phi$ est un champ scalaire qu'on va supposer appartenant à $H^1$. Les conditions aux bords sont de Neumann. La solution est unique à une constante près. Les deux problèmes à résoudre s'écrivent donc :\n",
    "\n",
    "$$\\left \\{\n",
    "\\begin{array}{l}\n",
    "     \\text{div}( \\mu ~\\overrightarrow{\\text{grad}} ~ \\phi ) = 0 \\\\\n",
    "     \\frac{\\partial \\phi}{\\partial n} = \\Phi ~ \\text{sur} ~ \\Gamma_1 \\bigcup \\Gamma_2 \\\\\n",
    "     \\frac{\\partial \\phi}{\\partial n} = - \\Phi ~ \\text{sur} ~ \\Gamma_3 \\bigcup \\Gamma_4 \n",
    "\\end{array}\n",
    "\\right. $$\n",
    "\n",
    "$$\\left \\{\n",
    "\\begin{array}{l}\n",
    "     \\text{div}( \\mu ~\\overrightarrow{\\text{grad}} ~ \\phi ) = 0 \\\\\n",
    "     \\frac{\\partial \\phi}{\\partial n} = \\Phi ~ \\text{sur} ~ \\Gamma_2 \\bigcup \\Gamma_3 \\\\\n",
    "     \\frac{\\partial \\phi}{\\partial n} = - \\Phi ~ \\text{sur} ~ \\Gamma_1 \\bigcup \\Gamma_4 \n",
    "\\end{array}\n",
    "\\right. $$\n"
   ]
  },
  {
   "cell_type": "markdown",
   "metadata": {},
   "source": [
    "Sous forme faible, ce problème s'écrit donc :\n",
    "\n",
    "$$\\forall \\psi \\in H^1, \\underbrace{\\int_{\\Omega} ~\\overrightarrow{\\text{grad}} ~ \\psi \\cdot  \\mu ~\\overrightarrow{\\text{grad}} ~ \\phi}_{\\text{forme bilinéaire} } = \\underbrace{\\int_{\\Gamma_+} \\psi \\Phi - \\int_{\\Gamma_-} \\psi \\Phi}_{\\text{forme linéaire}} $$\n",
    "\n",
    "Par ailleurs, on suppose que $\\mu$ est constante par morceau. On suppose aussi que $\\mu$ dépend de $h$ de la façon suivante :\n",
    "\n",
    "$$ \\mu(h) = \\mu_0 *\\left(1 + 0.25 \\frac{20 h}{1 + (20 h)^2 / h_{sat}} \\right)  $$\n",
    "\n",
    "Avec $h_{sat} = 10 kA/m$."
   ]
  },
  {
   "cell_type": "code",
   "execution_count": null,
   "metadata": {},
   "outputs": [],
   "source": [
    "hsat = 10000\n",
    "mu0 = 4e-7*np.pi\n",
    "\n",
    "def h2mu(h):\n",
    "    return mu0*(1+0.25*(20*h)/(1+(20*h)**2/hsat))\n",
    "\n",
    "def rho2mu(rho,mu):\n",
    "    return mu0 + (mu-mu0)*rho"
   ]
  },
  {
   "cell_type": "markdown",
   "metadata": {},
   "source": [
    "On définit ensuite les densités"
   ]
  },
  {
   "cell_type": "code",
   "execution_count": null,
   "metadata": {},
   "outputs": [],
   "source": [
    "fespace_rho = L2(mesh, order=0)\n",
    " \n",
    "rho = GridFunction(fespace_rho)\n",
    "rho.Set(0.5)"
   ]
  },
  {
   "attachments": {
    "image.png": {
     "image/png": "[encoded data removed]"
    }
   },
   "cell_type": "markdown",
   "metadata": {},
   "source": [
    "On définit ensuite la stratégie de résolution non-linéaire. On utilise la méthode de Newton, qui consiste à annuler une fonction (le résidu) par approximations affines successives.\n",
    "![image.png](attachment:image.png)\n",
    "\n",
    "En dérivant le résidu, on trouve :\n",
    "\n",
    "$$ \\overbrace{\\langle h^*, \\partial_h [\\mu(h_k) h_k] \\underbrace{(h_{k+1} - h_k)}_{\\Delta h_k} \\rangle}^{\\text{dérivée du résidu}} + \\underbrace{\\langle h^*, \\mu(h_k) h_k \\rangle - l_k(h^*)}_{\\text{résidu}} = 0 $$\n",
    "\n",
    "Avec \n",
    "\n",
    "$$\\partial_h [\\mu(h_k) h_k] = I_d \\mu(h_k) + h_k \\otimes \\partial_|h| \\mu . \\mathrm{d}_\\phi |h|$$\n",
    "\n",
    "Après avoir résolu cette équation, on trouve :\n",
    "\n",
    "$$ h_{k+1} = h_k + \\Delta h_k $$\n",
    "\n",
    "(On peut éventuellementmettre un coefficient d'amortissement)"
   ]
  },
  {
   "cell_type": "code",
   "execution_count": null,
   "metadata": {},
   "outputs": [],
   "source": [
    "PHI = 1;\n",
    "\n",
    "\n",
    "def solvePb(rho):\n",
    "    fespace_H1 = H1(mesh, order=1)\n",
    "    fespace_H1.FreeDofs()[0] = False\n",
    "    phi = fespace_H1.TrialFunction()\n",
    "    psi = fespace_H1.TestFunction()\n",
    "    \n",
    "    K1 = BilinearForm(fespace_H1, symmetric=True)\n",
    "    K1 +=  grad(psi)*rho2mu(rho,h2mu(sqrt(1e-12+grad(phi)*grad(phi))))*grad(phi)*dx\n",
    "    K2 = BilinearForm(fespace_H1, symmetric=True)\n",
    "    K2 +=  grad(psi)*rho2mu(rho,h2mu(sqrt(1e-12+grad(phi)*grad(phi))))*grad(phi)*dx\n",
    "\n",
    "    K1 += psi*PHI*ds(definedon=mesh.Boundaries(\"bottom\"))\n",
    "    K1 += -psi*PHI*ds(definedon=mesh.Boundaries(\"up\"))\n",
    "\n",
    "    K2 += psi*PHI*ds(definedon=mesh.Boundaries(\"left\"))\n",
    "    K2 += -psi*PHI*ds(definedon=mesh.Boundaries(\"right\"))\n",
    "    \n",
    "    phi1 = GridFunction(fespace_H1)\n",
    "    phi2 = GridFunction(fespace_H1)\n",
    "    Newton(K1,phi1, freedofs = fespace_H1.FreeDofs() ,printing=False)\n",
    "    Newton(K2,phi2, freedofs = fespace_H1.FreeDofs() ,printing=False)\n",
    "    \n",
    "    return(phi1, phi2)\n",
    "    \n"
   ]
  },
  {
   "cell_type": "code",
   "execution_count": null,
   "metadata": {},
   "outputs": [],
   "source": [
    "phi1, phi2 = solvePb(rho)"
   ]
  },
  {
   "cell_type": "code",
   "execution_count": null,
   "metadata": {},
   "outputs": [],
   "source": [
    "Draw (grad(phi1), mesh,vectors = { \"grid_size\":20});\n",
    "Draw (grad(phi2), mesh,vectors = { \"grid_size\":20});"
   ]
  },
  {
   "cell_type": "code",
   "execution_count": null,
   "metadata": {},
   "outputs": [],
   "source": [
    "Draw (phi1, mesh);\n",
    "Draw (phi2, mesh)"
   ]
  },
  {
   "cell_type": "markdown",
   "metadata": {},
   "source": [
    "## 3) Optimisation\n",
    "\n"
   ]
  },
  {
   "cell_type": "code",
   "execution_count": null,
   "metadata": {},
   "outputs": [],
   "source": [
    "def objective(phi1,phi2,rho):\n",
    "    mu1 = rho2mu(rho,h2mu(sqrt(1e-12+grad(phi1)*grad(phi1))))\n",
    "    mu2 = rho2mu(rho,h2mu(sqrt(1e-12+grad(phi2)*grad(phi2))))\n",
    "    return(Integrate(grad(phi1)*mu1* grad(phi1) -  grad(phi2)*mu2* grad(phi2), mesh))\n",
    "\n",
    "\n",
    "def h2dmudh(h):\n",
    "    return - mu0*(5*hsat**2*((20*h)**2)-hsat**2)/((((20*h)**2)+hsat**2)**2)\n",
    "\n",
    "def solveAdjoint(rho,phi1,phi2):\n",
    "    fespace_H1 = H1(mesh, order=1)\n",
    "    fespace_H1.FreeDofs()[0] = False\n",
    "    \n",
    "    phi = fespace_H1.TrialFunction()\n",
    "    psi = fespace_H1.TestFunction()\n",
    "    mu = rho2mu(rho,h2mu(sqrt(1e-12+grad(phi)*grad(phi))))\n",
    "    dK1 = BilinearForm(fespace_H1, symmetric=True)\n",
    "    dK1 +=  grad(psi)*mu*grad(phi)*dx\n",
    "    dK2 = BilinearForm(fespace_H1, symmetric=True)\n",
    "    dK2 +=  grad(psi)*mu*grad(phi)*dx\n",
    "    dK1.AssembleLinearization(phi1.vec)\n",
    "    dK2.AssembleLinearization(phi2.vec)\n",
    "    \n",
    "    mu1 = rho2mu(rho,h2mu(sqrt(1e-12+grad(phi1)*grad(phi1))))\n",
    "    dmu1 = h2dmudh(sqrt(1e-12+grad(phi1)*grad(phi1)))*rho\n",
    "    dJ1 = LinearForm(fespace_H1)\n",
    "    dJ1 +=  - dmu1*InnerProduct(grad(phi1),OuterProduct(grad(phi1),grad(phi1))*grad(psi))/sqrt(1e-12+grad(phi1)*grad(phi1))*dx\n",
    "    dJ1 += - 2*mu1*grad(psi)*grad(phi1)*dx \n",
    "    \n",
    "    mu2 = rho2mu(rho,h2mu(sqrt(1e-12+grad(phi2)*grad(phi2))))\n",
    "    dmu2 = h2dmudh(sqrt(1e-12+grad(phi2)*grad(phi2)))*rho\n",
    "    dJ2 = LinearForm(fespace_H1)\n",
    "    dJ2 += dmu2*InnerProduct(grad(phi2),OuterProduct(grad(phi2),grad(phi2))*grad(psi))/sqrt(1e-12+grad(phi2)*grad(phi2))*dx\n",
    "    dJ2 += 2*mu2*grad(psi)*grad(phi2)*dx \n",
    "    \n",
    "\n",
    "    dJ1.Assemble()\n",
    "    dJ2.Assemble()\n",
    "    \n",
    "    lb1 = GridFunction(fespace_H1)\n",
    "    lb2 = GridFunction(fespace_H1)\n",
    "    \n",
    "    lb1.vec.data = (dK1.mat.Inverse(fespace_H1.FreeDofs(), inverse=\"sparsecholesky\").T * dJ1.vec)\n",
    "    lb2.vec.data = (dK2.mat.Inverse(fespace_H1.FreeDofs(), inverse=\"sparsecholesky\").T * dJ2.vec)\n",
    "    \n",
    "    \n",
    "    return lb1,lb2"
   ]
  },
  {
   "cell_type": "code",
   "execution_count": null,
   "metadata": {},
   "outputs": [],
   "source": [
    "print(objective(phi1,phi2,rho))"
   ]
  },
  {
   "cell_type": "code",
   "execution_count": null,
   "metadata": {},
   "outputs": [],
   "source": [
    "lb1,lb2 = solveAdjoint(rho,phi1,phi2)\n",
    "Draw(lb1, mesh)\n",
    "Draw(lb2, mesh)"
   ]
  },
  {
   "cell_type": "code",
   "execution_count": null,
   "metadata": {},
   "outputs": [],
   "source": [
    "def gradient(rho,phi1,phi2,lb1,lb2):\n",
    "    mu1 = rho2mu(rho,h2mu(sqrt(1e-12+grad(phi1)*grad(phi1))))\n",
    "    mu2 = rho2mu(rho,h2mu(sqrt(1e-12+grad(phi2)*grad(phi2))))\n",
    "    Lag = grad(lb1)*mu1*grad(phi1)*dx\n",
    "    Lag += grad(lb2)*mu2*grad(phi2)*dx\n",
    "    Lag += (grad(phi1)*mu1* grad(phi1) -  grad(phi2)*mu2* grad(phi2))*dx\n",
    "    rho_test = rho.space.TestFunction()\n",
    "    temp = LinearForm(rho.space)\n",
    "    temp += Lag.Diff(rho,rho_test)\n",
    "    temp.Assemble()\n",
    "    r_temp = GridFunction(rho.space)\n",
    "    r_temp.vec.data = temp.vec\n",
    "    return r_temp\n",
    "Draw(gradient(rho,phi1,phi2,lb1,lb2))"
   ]
  },
  {
   "cell_type": "code",
   "execution_count": null,
   "metadata": {},
   "outputs": [],
   "source": [
    "objFuncList = []\n",
    "rhoList = []\n",
    "descentList = []\n",
    "step_0 = 1\n",
    "descent = GridFunction(fespace_rho)\n",
    "flag = False\n",
    "for i in range(200):\n",
    "    \n",
    "    # Calculs état direct, adjoint et direction de descente\n",
    "    phi1,phi2 = solvePb(rho)\n",
    "    lb1,lb2 = solveAdjoint(rho,phi1,phi2)\n",
    "    descent.Set(gradient(rho,phi1,phi2,lb1,lb2))\n",
    "    #descent.vec[:] = np.sign(descent.vec[:].FV().NumPy()) ça déforme le vecteur non ? \n",
    "    filter_01 = ~((rho.vec[:].FV().NumPy()==0)*(descent.vec[:].FV().NumPy()<0)+(rho.vec[:].FV().NumPy()==1)*(descent.vec[:].FV().NumPy()>0))\n",
    "    descent.vec[:] = filter_01*descent.vec[:].FV().NumPy()\n",
    "    descent.vec[:] = descent.vec[:].FV().NumPy()/Norm(descent.vec)\n",
    "\n",
    "    \n",
    "    \n",
    "    rhoList.append(copy(rho))\n",
    "    descentList.append(copy(descent))\n",
    "    if i == 0 : objFuncList.append(objective(phi1,phi2,rho))\n",
    "    step = step_0\n",
    "    if i>0:\n",
    "        objFuncList.append(np.inf)\n",
    "        while objFuncList[-1] > objFuncList[-2]:\n",
    "            rho.Set(rhoList[i] + descentList[i]*step)\n",
    "            rho.vec[:].FV().NumPy()[rho.vec[:].FV().NumPy()<0]=0\n",
    "            rho.vec[:].FV().NumPy()[rho.vec[:].FV().NumPy()>1]=1\n",
    "            phi1,phi2 = solvePb(rho)\n",
    "            objFuncList[-1] = objective(phi1,phi2,rho)\n",
    "            step = step/2\n",
    "            if step < 1e-8 : print('Done') ; flag = True ;break\n",
    "    if flag == True : break\n",
    "    print(f'{objFuncList[-1]} - step : {step}')\n",
    "    if np.isnan(np.sum(rho.vec[:].FV().NumPy())):\n",
    "        print('Something is wrong')\n",
    "        break\n"
   ]
  },
  {
   "cell_type": "code",
   "execution_count": null,
   "metadata": {},
   "outputs": [],
   "source": [
    "Draw(rho,mesh)"
   ]
  },
  {
   "cell_type": "code",
   "execution_count": null,
   "metadata": {},
   "outputs": [],
   "source": []
  }
 ],
 "metadata": {
  "kernelspec": {
   "display_name": "Python 3 (ipykernel)",
   "language": "python",
   "name": "python3"
  },
  "language_info": {
   "codemirror_mode": {
    "name": "ipython",
    "version": 3
   },
   "file_extension": ".py",
   "mimetype": "text/x-python",
   "name": "python",
   "nbconvert_exporter": "python",
   "pygments_lexer": "ipython3",
   "version": "3.8.10"
  },
  "livereveal": {
   "autolaunch": true
  },
  "toc": {
   "base_numbering": 1,
   "nav_menu": {},
   "number_sections": true,
   "sideBar": true,
   "skip_h1_title": false,
   "title_cell": "Table of Contents",
   "title_sidebar": "Contents",
   "toc_cell": false,
   "toc_position": {},
   "toc_section_display": true,
   "toc_window_display": false
  }
 },
 "nbformat": 4,
 "nbformat_minor": 4
}
