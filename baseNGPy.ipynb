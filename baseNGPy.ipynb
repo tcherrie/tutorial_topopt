{
 "cells": [
  {
   "attachments": {},
   "cell_type": "markdown",
   "metadata": {},
   "source": [
    "## Cheat sheet :  Netgen/NGSolve \n",
    "\n",
    "&ensp; La librairie python [Netgen/NGSolve (NGPy)](https://ngsolve.org/) est un mailleur/solveur pour des problèmes élements finis similaire à [FreeFem++](https://freefem.org/) ou [FEniCS](https://fenicsproject.org/).\n",
    "Netgen permet de créer la géométrie et le maillage. NGSolve se concentre sur l'assemblage des matrices et la résolution du problème éléments finis. Des interfaces sont possibles avec d'autres mailleurs/solveur tels que [GMSH](https://gmsh.info/) ou [SciPy](https://scipy.org/).<br>\n",
    "Ce document a pour objectif de présenter les fonctions de bases de la bibliothèque, plus de détails et exemples d'applications sont disponibles sur le site de [NGPy](https://docu.ngsolve.org/latest/).\n",
    "## I. Netgen\n",
    "Netgen fonctionne sur le système Point,Ligne,Surface (si 3D). Pour définir un maillage 2D, on définit donc un ensemble de points par leurs coordonnées puis les lignes/splines qui les relient. "
   ]
  },
  {
   "cell_type": "code",
   "execution_count": null,
   "metadata": {},
   "outputs": [],
   "source": [
    "from netgen.geom2d import SplineGeometry #Import du module de géométrie 2D (aussi disponible en CSG)\n",
    "from ngsolve.comp import Mesh # Import de l'objet maillage de NGsolve pour la conversion maillage Netgen -> maillage NGsolve \n",
    "from ngsolve.webgui import Draw #Import de la fonction d'affichage pour les notebook jupyter.\n",
    "\n",
    "geo = SplineGeometry() # Initialisation de l'objet qui va contenir la géometrie\n",
    "\n",
    "# Ajouter des points \n",
    "pts_coords = [(-1, 1), (-1, -1),(1, -1), (1, 1)] # On va créer un carré centré sur (0,0) de côté 2 unités.\n",
    "pts_geo = [geo.AppendPoint(pts[0], pts[1]) for pts in pts_coords] # On rajoute les points à la géometrie et on récupère leur indice pour pouvoir construire les segments\n",
    "\n",
    "# Ajouter des segments\n",
    "geo.Append([\"line\", pts_geo[0], pts_geo[1]], leftdomain=1, rightdomain=0, bc = 'left') # On définit ici un segment qui va du point 0 au point 1 \n",
    "geo.Append([\"line\", pts_geo[1], pts_geo[2]], leftdomain=1, rightdomain=0, bc = 'bottom') # Chaque segment est ici une frontière entre le domaine 1 et le domaine 0 qui n'est pas maillé sur Netge,\n",
    "geo.Append([\"line\", pts_geo[2], pts_geo[3]], leftdomain=1, rightdomain=0, bc = 'right') # Note : Il est important que chaque domaine soit fermé. \n",
    "geo.Append([\"line\", pts_geo[3], pts_geo[0]], leftdomain=1, rightdomain=0, bc = 'top')\n",
    "\n",
    "geo.SetMaterial(1,'domain') # Pour faciliter l'indentification des différents domaines, ils peuvent être nommé. \n",
    "\n",
    "# Generation du maillage \n",
    "ngmesh = geo.GenerateMesh(maxh = 0.2) # Le maillage est généré avec une taille maximale d'élement de 0.2 unités. \n",
    "mesh = Mesh(ngmesh)\n",
    "Draw(mesh)"
   ]
  },
  {
   "attachments": {},
   "cell_type": "markdown",
   "metadata": {},
   "source": [
    "D'autres fonctions pour générer des formes telles que des rectangles, des cercles et tracer des splines sont disponibles et détaillées dans ce [tutorial](https://docu.ngsolve.org/latest/netgen_tutorials/define_2d_geometries.html).\n",
    "## II. NGSolve\n",
    "## A. Resolution d'un problème éléments finis. \n",
    "Pour exemplifier cette partie, on choisit de résoudre l'equation de [Poisson](https://docu.ngsolve.org/latest/whetting_the_appetite/poisson.html) en imposant des conditions de Dirichlet sur l'entièreté du bord du carré. <br>\n",
    "Le problème en forme faible s'ecrit : \n",
    "$$ \\begin{cases} \\underbrace{\\int_\\Omega \\left<\\nabla u,\\nabla v\\right> \\mathop{dx}}_{\\text{forme bilinéaire}} = \\underbrace{\\int_\\Omega f v }_{\\text{forme linéaire}} \\quad \\forall v \\\\  u = 0  ~\\text{sur}~ \\partial \\Omega \\end{cases}$$ \n",
    "On choisit de résoudre ce problème sur l'espace discretisé $H^1$. On définit donc cet espace et les fonctions symboliques d'essai u et de test v. On exprime ensuite les formes bilinéaires et linéaires avant de les assembler et de resoudre le problème matriciel. <br>\n",
    "Pour le terme source, la fonction $f(x,y) = 32 \\, x²y²$ est choisie arbitrairement"
   ]
  },
  {
   "cell_type": "code",
   "execution_count": null,
   "metadata": {},
   "outputs": [],
   "source": [
    "from ngsolve import * # On importe le reste de NGSolve\n",
    "from ngsolve.webgui import Draw # A rejouter dans la section de code jupyter si Draw n'affiche rien.\n",
    "\n",
    "## Définition de l'espace de résolution et des fonctions d'essai et de test\n",
    "fes = H1(mesh, order = 1, dirichlet = \"right|top|left|bottom\") # Les conditions de dirichlet permettent ainsi de savoir le nombre de degrés de libertés lors de la résolution.\n",
    "# D'autres espaces telles que Hrot, \n",
    "u = fes.TrialFunction() # Fonction d'essai\n",
    "v = fes.TestFunction()  # Fonction de test\n",
    "\n",
    "## Définition de formes bilinéaires et linéaires\n",
    "\n",
    "# Forme bilinéaire\n",
    "K = BilinearForm(fes, symmetric = True)\n",
    "K += grad(u)*grad(v)*dx(definedon = mesh.Materials(\"domain\")) # On ajoute la forme bilinéaire avec l'opérateur d'intégration dx.\n",
    "# ou K += SymbolicBFI(grad(u)*grad(v), definedon = mesh.Materials(\"domain\"))\n",
    "\n",
    "# Forme linéaire\n",
    "l = LinearForm(fes)\n",
    "f = CoefficientFunction(32*x*x*y*y) # On utilise ici une CoefficientFunction. Elle permet de définir une expression symbolic qui dépend des coordonnées (x,y) du noeud de maillage\n",
    "l += f*v*dx(definedon=mesh.Materials(\"domain\")) #Il possible de définir des fonctions sur des lignes en utilisant l'intégrateur ds(definedon=mesh.Boundaries(\"nom\")). \n",
    "# ou l += SymbolicLFI(f*v,definedon=mesh.Materials(\"domain\"))\n",
    "\n",
    "## Assemblage et résolution\n",
    "K.Assemble() #création de la matrice K\n",
    "l.Assemble() #création du vecteur de terme source\n",
    "\n",
    "# Stockage de la solution  (GridFunction)\n",
    "gfu = GridFunction(fes) # on définit une Gridfunction qui stockera la valeur de la solution par noeud. \n",
    "\n",
    "# Resolution (Interfaçage possible avec SciPy)\n",
    "gfu.vec.data = K.mat.Inverse(fes.FreeDofs(), inverse=\"sparsecholesky\") * l.vec #On fait une décomposition de Cholesky de la matrice creuse K pour résoudre le problème. \n",
    "\n",
    "# Affichage de la solution\n",
    "Draw(gfu,mesh)"
   ]
  },
  {
   "attachments": {},
   "cell_type": "markdown",
   "metadata": {},
   "source": [
    "## B. Affichage et fonctions auxiliaires"
   ]
  },
  {
   "attachments": {},
   "cell_type": "markdown",
   "metadata": {},
   "source": [
    "Après résolution du problème éléments quelques transformations peuvent être nécessaires pour rendre interprétable le résultat. "
   ]
  },
  {
   "cell_type": "code",
   "execution_count": null,
   "metadata": {},
   "outputs": [],
   "source": [
    "# Affichage d'une fonction vectorielle\n",
    "vec_data = CoefficientFunction(grad(gfu))\n",
    "Draw(vec_data,mesh,vectors = { \"grid_size\":20}) # L'argument vectors permets d'afficher les flèches et de définir leur nombre. \n",
    "\n",
    "# On peut aussi choisir de n'afficher que sur x (0) du gradient de la solution.\n",
    "Draw(CoefficientFunction(grad(gfu)[0]),mesh)\n",
    "\n",
    "# Ou d'appliquer une rotation sur le gradient et en affichant juste la norme du vecteur.\n",
    "Draw(CoefficientFunction((grad(gfu)[1],-grad(gfu)[0])),mesh) "
   ]
  },
  {
   "attachments": {},
   "cell_type": "markdown",
   "metadata": {},
   "source": [
    "Pour calculer certaines quantités comme le flux, la compliance ou les forces, il est nécessaire d'intégrer sur le maillage."
   ]
  },
  {
   "cell_type": "code",
   "execution_count": null,
   "metadata": {},
   "outputs": [],
   "source": [
    "# En passant par la formulation symbolique\n",
    "forme_symbolique = gfu * dx(definedon = mesh.Materials('domain'))\n",
    "print(Integrate(forme_symbolique,mesh))\n",
    "\n",
    "# De manière plus directe\n",
    "print(Integrate(gfu,mesh,definedon = mesh.Materials('domain')))"
   ]
  }
 ],
 "metadata": {
  "kernelspec": {
   "display_name": "Python 3",
   "language": "python",
   "name": "python3"
  },
  "language_info": {
   "codemirror_mode": {
    "name": "ipython",
    "version": 3
   },
   "file_extension": ".py",
   "mimetype": "text/x-python",
   "name": "python",
   "nbconvert_exporter": "python",
   "pygments_lexer": "ipython3",
   "version": "3.7.9 (tags/v3.7.9:13c94747c7, Aug 17 2020, 18:58:18) [MSC v.1900 64 bit (AMD64)]"
  },
  "orig_nbformat": 4,
  "vscode": {
   "interpreter": {
    "hash": "c5f2bdcedd27137609ac5ef6063c7d595517fc72b32bca7b9f645282e6be3db9"
   }
  }
 },
 "nbformat": 4,
 "nbformat_minor": 2
}
